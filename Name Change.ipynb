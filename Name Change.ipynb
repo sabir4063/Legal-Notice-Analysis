{
 "cells": [
  {
   "cell_type": "code",
   "execution_count": 2,
   "metadata": {},
   "outputs": [
    {
     "name": "stderr",
     "output_type": "stream",
     "text": [
      "C:\\Users\\Prime\\AppData\\Local\\Continuum\\anaconda3\\lib\\site-packages\\ipykernel_launcher.py:6: FutureWarning: from_csv is deprecated. Please use read_csv(...) instead. Note that some of the default arguments are different, so please refer to the documentation for from_csv when changing your function calls\n",
      "  \n"
     ]
    }
   ],
   "source": [
    "import pandas as pd \n",
    "from string import printable\n",
    "st = set(printable)\n",
    "\n",
    "FILE = '../Data/all_data.csv'\n",
    "df = pd.DataFrame.from_csv(FILE)"
   ]
  },
  {
   "cell_type": "code",
   "execution_count": null,
   "metadata": {},
   "outputs": [],
   "source": [
    "df.content = df.content.str.replace('/',' ') \n",
    "df.content = df.content.str.replace(',',' ') \n",
    "df.content = df.content.str.replace('(',' ')\n",
    "df.content = df.content.str.replace(')',' ') \n",
    "df.content = df.content.str.replace('\"','\\'') \n",
    "df.content = df.content.astype(str)\n",
    "\n",
    "df[\"content\"] = df[\"content\"].apply(lambda x: ''.join([\" \" if  i not in  st else i for i in x]))\n",
    "df.category = df.category.str.lower()"
   ]
  },
  {
   "cell_type": "code",
   "execution_count": null,
   "metadata": {},
   "outputs": [],
   "source": [
    "import matplotlib.pyplot as plt\n",
    "fig = plt.figure(figsize=(20,6))\n",
    "df.groupby('state')['content'].count().plot.bar(ylim=0)\n",
    "plt.show()"
   ]
  },
  {
   "cell_type": "code",
   "execution_count": null,
   "metadata": {},
   "outputs": [],
   "source": [
    "df.category.unique()"
   ]
  },
  {
   "cell_type": "code",
   "execution_count": null,
   "metadata": {},
   "outputs": [],
   "source": [
    "print(len(df))\n",
    "df = df[df.category=='name changes']\n",
    "print(len(df))"
   ]
  },
  {
   "cell_type": "code",
   "execution_count": null,
   "metadata": {},
   "outputs": [],
   "source": [
    "import re\n",
    "\n",
    "change_name = []\n",
    "def reg_entity_arizona(row):\n",
    "    last = -1\n",
    "    res = []\n",
    "    strn = str(row)\n",
    "    for i in range(4):\n",
    "        #regstr = str(str(i)+'[\\. ][\\W\\S]*'+str(i+1)+'\\.')\n",
    "        regstr = str(str(i)+'\\.\\s[\\W\\S]*'+str(i+1)+'\\.')\n",
    "        regex = re.compile(r\"%s\" % regstr)\n",
    "         \n",
    "        r = regex.findall(strn)\n",
    "        if r==[]:\n",
    "            continue\n",
    "        else:\n",
    "            r = str(r)\n",
    "            res.append(r[5:-4])\n",
    "            last = i\n",
    "            #print(r, last)\n",
    "            \n",
    "    last = last+ 1\n",
    "    #print(last)\n",
    "    regstr = str(str(last)+'\\.\\s[\\W\\S]*')\n",
    "    regex = re.compile(r\"%s\" % regstr)\n",
    "\n",
    "    r = regex.findall(strn)\n",
    "    if r!=[]:\n",
    "        r = str(r)\n",
    "        res.append(r[5:-4])\n",
    "    #print(strn)\n",
    "    #print(res)\n",
    "    if res!=[]:\n",
    "        change_name.append(res)\n",
    "        \n",
    "    #if 'p-20576664' in strn:\n",
    "    #    print(strn)"
   ]
  },
  {
   "cell_type": "code",
   "execution_count": null,
   "metadata": {},
   "outputs": [],
   "source": [
    "df[df.state=='Arizona'].content.apply(reg_entity_arizona)\n",
    "print(len(df))\n",
    "print(len(change_name))"
   ]
  },
  {
   "cell_type": "code",
   "execution_count": null,
   "metadata": {},
   "outputs": [],
   "source": [
    "for c in change_name[220:230]:\n",
    "    for cc in c:\n",
    "        print(cc)\n",
    "    print()"
   ]
  },
  {
   "cell_type": "code",
   "execution_count": null,
   "metadata": {},
   "outputs": [],
   "source": [
    "len(df[df.state=='Wyoming'])"
   ]
  },
  {
   "cell_type": "code",
   "execution_count": null,
   "metadata": {},
   "outputs": [],
   "source": [
    "import re\n",
    "\n",
    "def reg_entity_nevada(row):\n",
    "    \n",
    "    patterns = [\"change petitioner's name\", 'change his her name','change the name of the child',\n",
    "                \"changing the petitioner's legal name\", \"present legal name of petitioner\", \"change petitioner's name\",\n",
    "                \"petition for change of name of\", \"change petitioner s name\", \"petitioner's current name\",\n",
    "                \"change of name from\", \"order of name change\", \"to change his name\", \"to change her name\",\n",
    "                \"above-named person from\"] \n",
    "    \n",
    "    strn = str(row)\n",
    "    tag = 0\n",
    "    for pattern in patterns:\n",
    "        if pattern in strn:\n",
    "            ind = strn.index(pattern)\n",
    "            txt = strn[ind:ind+90].split('.')[0]\n",
    "            #print(strn)\n",
    "            if ('to' in txt) and ('from' in txt or 'of' in txt):\n",
    "                to_ind = txt.index('to')\n",
    "                if 'from' in txt:\n",
    "                    from_ind = txt.index('from')\n",
    "                else:\n",
    "                    from_ind = txt.index('of')\n",
    "                old_name = txt[from_ind:to_ind].replace('from',' ').replace('of',' ').strip()\n",
    "                new_name = txt[to_ind:].replace('to',' ').strip()\n",
    "                #print(old_name, new_name)\n",
    "                change_name.append((old_name, new_name))\n",
    "                return\n",
    "                tag = 1\n",
    "    #if tag==0:\n",
    "    #    print(strn+\"\\n\")"
   ]
  },
  {
   "cell_type": "code",
   "execution_count": null,
   "metadata": {},
   "outputs": [],
   "source": [
    "df.content.apply(reg_entity_nevada)\n",
    "print(len(df))\n",
    "print(len(change_name))"
   ]
  },
  {
   "cell_type": "code",
   "execution_count": null,
   "metadata": {},
   "outputs": [],
   "source": [
    "for c in change_name[-400:]:\n",
    "    print(c)"
   ]
  }
 ],
 "metadata": {
  "kernelspec": {
   "display_name": "Python 3",
   "language": "python",
   "name": "python3"
  },
  "language_info": {
   "codemirror_mode": {
    "name": "ipython",
    "version": 3
   },
   "file_extension": ".py",
   "mimetype": "text/x-python",
   "name": "python",
   "nbconvert_exporter": "python",
   "pygments_lexer": "ipython3",
   "version": "3.6.6"
  }
 },
 "nbformat": 4,
 "nbformat_minor": 2
}
